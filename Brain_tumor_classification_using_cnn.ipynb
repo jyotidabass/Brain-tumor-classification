{
  "nbformat": 4,
  "nbformat_minor": 0,
  "metadata": {
    "colab": {
      "name": "Brain tumor classification using cnn.ipynb",
      "provenance": [],
      "authorship_tag": "ABX9TyNkpDRskAleEU/x5NK9/UI7",
      "include_colab_link": true
    },
    "kernelspec": {
      "name": "python3",
      "display_name": "Python 3"
    },
    "language_info": {
      "name": "python"
    }
  },
  "cells": [
    {
      "cell_type": "markdown",
      "metadata": {
        "id": "view-in-github",
        "colab_type": "text"
      },
      "source": [
        "<a href=\"https://colab.research.google.com/github/jyotidabass/Brain-tumor-classification/blob/main/Brain_tumor_classification_using_cnn.ipynb\" target=\"_parent\"><img src=\"https://colab.research.google.com/assets/colab-badge.svg\" alt=\"Open In Colab\"/></a>"
      ]
    },
    {
      "cell_type": "code",
      "source": [
        "!git clone https://github.com/Nupurgopali/Brain-tumor-classification-using-CNN"
      ],
      "metadata": {
        "colab": {
          "base_uri": "https://localhost:8080/"
        },
        "id": "VTtSkIMkbOFz",
        "outputId": "2b2e50e0-28a6-4226-bd68-787b57355ad3"
      },
      "execution_count": null,
      "outputs": [
        {
          "output_type": "stream",
          "name": "stdout",
          "text": [
            "Cloning into 'Brain-tumor-classification-using-CNN'...\n",
            "remote: Enumerating objects: 275, done.\u001b[K\n",
            "remote: Counting objects: 100% (275/275), done.\u001b[K\n",
            "remote: Compressing objects: 100% (273/273), done.\u001b[K\n",
            "remote: Total 275 (delta 15), reused 243 (delta 2), pack-reused 0\u001b[K\n",
            "Receiving objects: 100% (275/275), 6.99 MiB | 32.52 MiB/s, done.\n",
            "Resolving deltas: 100% (15/15), done.\n"
          ]
        }
      ]
    },
    {
      "cell_type": "code",
      "execution_count": null,
      "metadata": {
        "colab": {
          "base_uri": "https://localhost:8080/"
        },
        "id": "juT9_-EMbMU5",
        "outputId": "c08eaf2a-7b32-4f19-cd24-edf54b2f5eec"
      },
      "outputs": [
        {
          "output_type": "stream",
          "name": "stdout",
          "text": [
            "Found 195 images belonging to 2 classes.\n",
            "Found 58 images belonging to 2 classes.\n",
            "Epoch 1/25\n",
            "7/7 [==============================] - 3s 328ms/step - loss: 0.6223 - accuracy: 0.6410 - val_loss: 0.8850 - val_accuracy: 0.5000\n",
            "Epoch 2/25\n",
            "7/7 [==============================] - 2s 265ms/step - loss: 0.5854 - accuracy: 0.7385 - val_loss: 0.4499 - val_accuracy: 0.8793\n",
            "Epoch 3/25\n",
            "7/7 [==============================] - 2s 278ms/step - loss: 0.5366 - accuracy: 0.7333 - val_loss: 0.4367 - val_accuracy: 0.8448\n",
            "Epoch 4/25\n",
            "7/7 [==============================] - 2s 279ms/step - loss: 0.5073 - accuracy: 0.7538 - val_loss: 0.5246 - val_accuracy: 0.7414\n",
            "Epoch 5/25\n",
            "7/7 [==============================] - 2s 262ms/step - loss: 0.4997 - accuracy: 0.7641 - val_loss: 0.5591 - val_accuracy: 0.7069\n",
            "Epoch 6/25\n",
            "7/7 [==============================] - 2s 258ms/step - loss: 0.4832 - accuracy: 0.8051 - val_loss: 0.5723 - val_accuracy: 0.7241\n",
            "Epoch 7/25\n",
            "7/7 [==============================] - 2s 268ms/step - loss: 0.4834 - accuracy: 0.7846 - val_loss: 0.5370 - val_accuracy: 0.7241\n",
            "Epoch 8/25\n",
            "7/7 [==============================] - 2s 265ms/step - loss: 0.4164 - accuracy: 0.8256 - val_loss: 0.6117 - val_accuracy: 0.7241\n",
            "Epoch 9/25\n",
            "7/7 [==============================] - 2s 324ms/step - loss: 0.4818 - accuracy: 0.7641 - val_loss: 0.5483 - val_accuracy: 0.7241\n",
            "Epoch 10/25\n",
            "7/7 [==============================] - 2s 265ms/step - loss: 0.4213 - accuracy: 0.8359 - val_loss: 0.4889 - val_accuracy: 0.7414\n",
            "Epoch 11/25\n",
            "7/7 [==============================] - 2s 258ms/step - loss: 0.4439 - accuracy: 0.8051 - val_loss: 0.5306 - val_accuracy: 0.7414\n",
            "Epoch 12/25\n",
            "7/7 [==============================] - 2s 264ms/step - loss: 0.4196 - accuracy: 0.8256 - val_loss: 0.6094 - val_accuracy: 0.7069\n",
            "Epoch 13/25\n",
            "7/7 [==============================] - 2s 266ms/step - loss: 0.3990 - accuracy: 0.8308 - val_loss: 0.6755 - val_accuracy: 0.6552\n",
            "Epoch 14/25\n",
            "7/7 [==============================] - 2s 275ms/step - loss: 0.4046 - accuracy: 0.8103 - val_loss: 0.6721 - val_accuracy: 0.7241\n",
            "Epoch 15/25\n",
            "7/7 [==============================] - 2s 264ms/step - loss: 0.4099 - accuracy: 0.8154 - val_loss: 0.4986 - val_accuracy: 0.7586\n",
            "Epoch 16/25\n",
            "7/7 [==============================] - 2s 265ms/step - loss: 0.3890 - accuracy: 0.8410 - val_loss: 0.5510 - val_accuracy: 0.7414\n",
            "Epoch 17/25\n",
            "7/7 [==============================] - 2s 312ms/step - loss: 0.3768 - accuracy: 0.8256 - val_loss: 0.5821 - val_accuracy: 0.7414\n",
            "Epoch 18/25\n",
            "7/7 [==============================] - 2s 264ms/step - loss: 0.4169 - accuracy: 0.8154 - val_loss: 0.7537 - val_accuracy: 0.6724\n",
            "Epoch 19/25\n",
            "7/7 [==============================] - 2s 311ms/step - loss: 0.3567 - accuracy: 0.8462 - val_loss: 0.5270 - val_accuracy: 0.7586\n",
            "Epoch 20/25\n",
            "7/7 [==============================] - 2s 257ms/step - loss: 0.3405 - accuracy: 0.8564 - val_loss: 0.4508 - val_accuracy: 0.7931\n",
            "Epoch 21/25\n",
            "7/7 [==============================] - 2s 258ms/step - loss: 0.3032 - accuracy: 0.8872 - val_loss: 0.6419 - val_accuracy: 0.6897\n",
            "Epoch 22/25\n",
            "7/7 [==============================] - 2s 265ms/step - loss: 0.3250 - accuracy: 0.8821 - val_loss: 0.5295 - val_accuracy: 0.7759\n",
            "Epoch 23/25\n",
            "7/7 [==============================] - 2s 258ms/step - loss: 0.3855 - accuracy: 0.8410 - val_loss: 0.4933 - val_accuracy: 0.7931\n",
            "Epoch 24/25\n",
            "7/7 [==============================] - 2s 268ms/step - loss: 0.2921 - accuracy: 0.8564 - val_loss: 0.5627 - val_accuracy: 0.7414\n",
            "Epoch 25/25\n",
            "7/7 [==============================] - 2s 260ms/step - loss: 0.3759 - accuracy: 0.8410 - val_loss: 0.5211 - val_accuracy: 0.7759\n",
            "no\n"
          ]
        }
      ],
      "source": [
        " #Convolutional Neural Network\n",
        "\n",
        "# Importing the libraries\n",
        "import tensorflow as tf\n",
        "from keras.preprocessing.image import ImageDataGenerator\n",
        "tf.__version__\n",
        "\n",
        "# Part 1 - Data Preprocessing\n",
        "\n",
        "# Preprocessing the Training set\n",
        "train_datagen = ImageDataGenerator(rescale = 1./255,\n",
        "                                   shear_range = 0.2,\n",
        "                                   zoom_range = 0.2,\n",
        "                                   horizontal_flip = True)\n",
        "training_set = train_datagen.flow_from_directory('/content/Brain-tumor-classification-using-CNN/dataset/training_set',\n",
        "                                                 target_size = (64, 64),\n",
        "                                                 batch_size = 32,\n",
        "                                                 class_mode = 'binary')\n",
        "\n",
        "# Preprocessing the Test set\n",
        "test_datagen = ImageDataGenerator(rescale = 1./255)\n",
        "test_set = test_datagen.flow_from_directory('/content/Brain-tumor-classification-using-CNN/dataset/test_set',\n",
        "                                            target_size = (64, 64),\n",
        "                                            batch_size = 32,\n",
        "                                            class_mode = 'binary')\n",
        "\n",
        "# Part 2 - Building the CNN\n",
        "\n",
        "# Initialising the CNN\n",
        "cnn = tf.keras.models.Sequential()\n",
        "\n",
        "# Step 1 - Convolution\n",
        "cnn.add(tf.keras.layers.Conv2D(filters=32, kernel_size=3, activation='relu', input_shape=[64, 64, 3]))\n",
        "\n",
        "# Step 2 - Pooling\n",
        "cnn.add(tf.keras.layers.MaxPool2D(pool_size=2, strides=2))\n",
        "\n",
        "# Adding a second convolutional layer\n",
        "cnn.add(tf.keras.layers.Conv2D(filters=64, kernel_size=3, activation='relu'))\n",
        "cnn.add(tf.keras.layers.MaxPool2D(pool_size=2, strides=2))\n",
        "\n",
        "\n",
        "# Step 3 - Flattening\n",
        "cnn.add(tf.keras.layers.Flatten())\n",
        "\n",
        "# Step 4 - Full Connection\n",
        "cnn.add(tf.keras.layers.Dense(units=128, activation='relu'))\n",
        "\n",
        "# Step 5 - Output Layer\n",
        "cnn.add(tf.keras.layers.Dense(units=1, activation='sigmoid'))\n",
        "\n",
        "# Part 3 - Training the CNN\n",
        "\n",
        "# Compiling the CNN\n",
        "cnn.compile(optimizer = 'adam', loss = 'binary_crossentropy', metrics = ['accuracy'])\n",
        "\n",
        "# Training the CNN on the Training set and evaluating it on the Test set\n",
        "cnn.fit(x = training_set, validation_data = test_set, epochs = 25)\n",
        "\n",
        "# Part 4 - Making a single prediction\n",
        "\n",
        "import numpy as np\n",
        "from keras.preprocessing import image\n",
        "test_image = image.load_img('/content/Brain-tumor-classification-using-CNN/dataset/single_prediction/yes_or_no.jpg', target_size = (64, 64))\n",
        "test_image = image.img_to_array(test_image)\n",
        "test_image = np.expand_dims(test_image, axis = 0)\n",
        "result = cnn.predict(test_image)\n",
        "training_set.class_indices\n",
        "if result[0][0] == 1:\n",
        "    prediction = 'yes'\n",
        "else:\n",
        "    prediction = 'no'\n",
        "print(prediction)"
      ]
    }
  ]
}